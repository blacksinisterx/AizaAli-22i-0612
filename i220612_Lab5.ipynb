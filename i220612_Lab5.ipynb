{
  "cells": [
    {
      "cell_type": "markdown",
      "metadata": {
        "id": "view-in-github",
        "colab_type": "text"
      },
      "source": [
        "<a href=\"https://colab.research.google.com/github/blacksinisterx/AizaAli-22i-0612/blob/main/i220612_Lab5.ipynb\" target=\"_parent\"><img src=\"https://colab.research.google.com/assets/colab-badge.svg\" alt=\"Open In Colab\"/></a>"
      ]
    },
    {
      "cell_type": "markdown",
      "source": [
        "# Task 1 and 2"
      ],
      "metadata": {
        "id": "FkjYp5uMyTFu"
      },
      "id": "FkjYp5uMyTFu"
    },
    {
      "cell_type": "markdown",
      "source": [
        "Maze Traversal through BFS and DFS\n",
        "\n",
        "\n",
        "Queue for BFS\n",
        "\n",
        "\n",
        "Stack for DFS"
      ],
      "metadata": {
        "id": "je3i6BhTyRi4"
      },
      "id": "je3i6BhTyRi4"
    },
    {
      "cell_type": "code",
      "source": [
        "class Queue:\n",
        "  def __init__(self):\n",
        "    self.items = []\n",
        "  def enqueue(self,item):\n",
        "    self.items.append(item)\n",
        "  def dequeue(self):\n",
        "    return self.items.pop(0)\n",
        "  def isempty(self):\n",
        "    return len(self.items) == 0\n"
      ],
      "metadata": {
        "id": "7gx0apSCmwtw"
      },
      "id": "7gx0apSCmwtw",
      "execution_count": null,
      "outputs": []
    },
    {
      "cell_type": "code",
      "source": [
        "class Stack:\n",
        "  def __init__(self):\n",
        "    self.items = []\n",
        "  def push(self,item):\n",
        "    self.items.append(item)\n",
        "  def pop(self):\n",
        "    return self.items.pop()\n",
        "  def isempty(self):\n",
        "    return len(self.items) == 0"
      ],
      "metadata": {
        "id": "4TyeG6yUoORg"
      },
      "id": "4TyeG6yUoORg",
      "execution_count": null,
      "outputs": []
    },
    {
      "cell_type": "code",
      "source": [
        "class MazeSolver:\n",
        "  def __init__(self,maze):\n",
        "    self.maze = maze\n",
        "    self.start = 'S'\n",
        "    self.target = 'I'\n",
        "  def BFS(self):\n",
        "    visited = set()\n",
        "    queue = Queue()\n",
        "    queue.enqueue((self.start, []))\n",
        "    while not queue.isempty():\n",
        "      currentroom, path = queue.dequeue()\n",
        "      if currentroom == self.target:\n",
        "        return path + [currentroom]\n",
        "      visited.add(currentroom)\n",
        "      for neighbor in self.maze.get(currentroom, []):\n",
        "        if neighbor not in visited:\n",
        "          queue.enqueue((neighbor, path + [currentroom]))\n",
        "    return None\n",
        "  def DFS(self):\n",
        "    visited = set()\n",
        "    stack = Stack()\n",
        "    stack.push((self.start, []))\n",
        "    while not stack.isempty():\n",
        "      currentroom, path = stack.pop()\n",
        "      if currentroom == self.target:\n",
        "        return path + [currentroom]\n",
        "      visited.add(currentroom)\n",
        "      for neighbor in self.maze.get(currentroom, []):\n",
        "        if neighbor not in visited:\n",
        "          stack.push((neighbor, path + [currentroom]))\n",
        "    return None\n",
        "\n"
      ],
      "metadata": {
        "id": "HepeTe4u5Vzm"
      },
      "id": "HepeTe4u5Vzm",
      "execution_count": null,
      "outputs": []
    },
    {
      "cell_type": "code",
      "source": [
        "maze_graph = {\n",
        "    'S': ['A', 'B'],\n",
        "    'A': ['C', 'S'],\n",
        "    'B': ['S', 'D', 'E'],\n",
        "    'C': ['A'],\n",
        "    'D': ['B', 'I'],\n",
        "    'E': ['B', 'I'],\n",
        "    'I': ['D', 'E']\n",
        "}\n",
        "maze_graph"
      ],
      "metadata": {
        "id": "2iollsVyyLVj",
        "outputId": "5fe3318d-f3f1-4036-8f25-e91a46dfa75c",
        "colab": {
          "base_uri": "https://localhost:8080/"
        }
      },
      "id": "2iollsVyyLVj",
      "execution_count": null,
      "outputs": [
        {
          "output_type": "execute_result",
          "data": {
            "text/plain": [
              "{'S': ['A', 'B'],\n",
              " 'A': ['C', 'S'],\n",
              " 'B': ['S', 'D', 'E'],\n",
              " 'C': ['A'],\n",
              " 'D': ['B', 'I'],\n",
              " 'E': ['B', 'I'],\n",
              " 'I': ['D', 'E']}"
            ]
          },
          "metadata": {},
          "execution_count": 4
        }
      ]
    },
    {
      "cell_type": "code",
      "source": [
        "mazesolve = MazeSolver(maze_graph)\n",
        "bfspath=mazesolve.BFS()\n",
        "dfspath=mazesolve.DFS()\n",
        "if bfspath:\n",
        "    print(\"Path found using BFS:\", bfspath)\n",
        "    print(\"Number of steps:\", len(bfspath) - 1)\n",
        "else:\n",
        "    print(\"No path found using BFS!\")\n",
        "if dfspath:\n",
        "    print(\"Path found using DFS:\", dfspath)\n",
        "    print(\"Number of steps:\", len(dfspath) - 1)\n",
        "else:\n",
        "    print(\"No path found using DFS!\")"
      ],
      "metadata": {
        "id": "N_5gP4q572mo",
        "outputId": "a0bccdaf-446f-4a9f-e6af-45dbf13b00c8",
        "colab": {
          "base_uri": "https://localhost:8080/"
        }
      },
      "id": "N_5gP4q572mo",
      "execution_count": null,
      "outputs": [
        {
          "output_type": "stream",
          "name": "stdout",
          "text": [
            "Path found using DFS: ['S', 'B', 'D', 'I']\n",
            "Number of steps: 3\n",
            "Path found using DFS: ['S', 'B', 'E', 'I']\n",
            "Number of steps: 3\n"
          ]
        }
      ]
    },
    {
      "cell_type": "code",
      "execution_count": null,
      "id": "7a45aaea",
      "metadata": {
        "id": "7a45aaea"
      },
      "outputs": [],
      "source": [
        "graph = {\n",
        "    'A': ['B', 'C'],\n",
        "    'B': ['A', 'D', 'E'],\n",
        "    'C': ['A', 'F'],\n",
        "    'D': ['B'],\n",
        "    'E': ['B', 'F'],\n",
        "    'F': ['C', 'E']\n",
        "}"
      ]
    },
    {
      "cell_type": "code",
      "execution_count": null,
      "id": "42f2880b",
      "metadata": {
        "id": "42f2880b",
        "outputId": "ec329ef9-eb01-49ed-f064-05ea30a19869"
      },
      "outputs": [
        {
          "data": {
            "text/plain": [
              "{'A': ['B', 'C'],\n",
              " 'B': ['A', 'D', 'E'],\n",
              " 'C': ['A', 'F'],\n",
              " 'D': ['B'],\n",
              " 'E': ['B', 'F'],\n",
              " 'F': ['C', 'E']}"
            ]
          },
          "execution_count": 3,
          "metadata": {},
          "output_type": "execute_result"
        }
      ],
      "source": [
        "graph"
      ]
    },
    {
      "cell_type": "code",
      "source": [],
      "metadata": {
        "id": "vsmkHqF2yJ_T"
      },
      "id": "vsmkHqF2yJ_T",
      "execution_count": null,
      "outputs": []
    },
    {
      "cell_type": "code",
      "execution_count": null,
      "id": "632b4f53",
      "metadata": {
        "id": "632b4f53",
        "outputId": "b4e35fdb-b8f8-42c7-c1b8-27328ce90d9a"
      },
      "outputs": [
        {
          "name": "stdout",
          "output_type": "stream",
          "text": [
            "Vertex C found in the graph.\n"
          ]
        }
      ],
      "source": [
        "def search_vertex(graph, vertex):\n",
        "    return vertex in graph\n",
        "\n",
        "# Example usage:\n",
        "graph = {\n",
        "    'A': ['B', 'C'],\n",
        "    'B': ['A', 'D', 'E'],\n",
        "    'C': ['A', 'F'],\n",
        "    'D': ['B'],\n",
        "    'E': ['B', 'F'],\n",
        "    'F': ['C', 'E']\n",
        "}\n",
        "\n",
        "vertex_to_find = 'C'\n",
        "\n",
        "if search_vertex(graph, vertex_to_find):\n",
        "    print(f\"Vertex {vertex_to_find} found in the graph.\")\n",
        "else:\n",
        "    print(f\"Vertex {vertex_to_find} not found in the graph.\")\n"
      ]
    },
    {
      "cell_type": "code",
      "execution_count": null,
      "id": "7857610b",
      "metadata": {
        "id": "7857610b"
      },
      "outputs": [],
      "source": [
        "class TreeNode:\n",
        "    def __init__(self, data):\n",
        "        self.data = data\n",
        "        self.left = None\n",
        "        self.right = None\n",
        "\n",
        "# Create a binary tree\n",
        "root = TreeNode(1)\n",
        "root.left = TreeNode(2)\n",
        "root.right = TreeNode"
      ]
    },
    {
      "cell_type": "code",
      "execution_count": null,
      "id": "9c248790",
      "metadata": {
        "id": "9c248790",
        "outputId": "857ed290-adb8-40bc-f52a-4b29bfde224b"
      },
      "outputs": [
        {
          "name": "stdout",
          "output_type": "stream",
          "text": [
            "In-order traversal:\n",
            "2 1 3 "
          ]
        }
      ],
      "source": [
        "class TreeNode:\n",
        "    def __init__(self, data):\n",
        "        self.data = data\n",
        "        self.left = None\n",
        "        self.right = None\n",
        "\n",
        "def print_tree_inorder(node):\n",
        "    if node is not None:\n",
        "        # Traverse the left subtree\n",
        "        print_tree_inorder(node.left)\n",
        "        # Print the current node's data\n",
        "        print(node.data, end=' ')\n",
        "        # Traverse the right subtree\n",
        "        print_tree_inorder(node.right)\n",
        "\n",
        "# Create a binary tree\n",
        "root = TreeNode(1)\n",
        "root.left = TreeNode(2)\n",
        "root.right = TreeNode(3)\n",
        "\n",
        "# Print the tree values in-order\n",
        "print(\"In-order traversal:\")\n",
        "print_tree_inorder(root)\n"
      ]
    },
    {
      "cell_type": "markdown",
      "source": [
        "# Task 3: Solve 8 Puzzle problems with Breath-First Search Algorithm"
      ],
      "metadata": {
        "id": "d7QedA5Z-1ws"
      },
      "id": "d7QedA5Z-1ws"
    },
    {
      "cell_type": "code",
      "source": [
        "#class Queue already implemented\n",
        "def getblankpos(state):\n",
        "  #gets position of blank tile\n",
        "  for i in range(len(state)):\n",
        "    for j in range(len(state[0])):\n",
        "      if state[i][j]==0:\n",
        "        return i,j\n",
        "def movblank(state,dir):\n",
        "  blankrow,blankcol=getblankpos(state)\n",
        "  #making tester newstate\n",
        "  newstate = [row[:] for row in state]\n",
        "  if dir == 'up' and blankrow > 0:\n",
        "    newstate[blankrow][blankcol]=newstate[blankrow-1][blankcol]\n",
        "    newstate[blankrow-1][blankcol]=0\n",
        "  elif dir == 'down' and blankrow < len(state) -1:\n",
        "    newstate[blankrow][blankcol]=newstate[blankrow+1][blankcol]\n",
        "    newstate[blankrow+1][blankcol]=0\n",
        "  elif dir == 'left' and blankcol < 0:\n",
        "    newstate[blankrow][blankcol]=newstate[blankrow][blankcol-1]\n",
        "    newstate[blankrow][blankcol-1]=0\n",
        "  elif dir == 'right' and blankcol < len(state[0]) -1:\n",
        "    newstate[blankrow][blankcol]=newstate[blankrow][blankcol+1]\n",
        "    newstate[blankrow][blankcol+1]=0"
      ],
      "metadata": {
        "id": "Gb6NBeF_Ke4d"
      },
      "id": "Gb6NBeF_Ke4d",
      "execution_count": null,
      "outputs": []
    },
    {
      "cell_type": "code",
      "source": [
        "def isgoal(state):\n",
        "  return state == goalstate\n",
        "def printstate(state):\n",
        "  for row in state:\n",
        "    print(row)\n",
        "  print()\n"
      ],
      "metadata": {
        "id": "zfukafhRQ8OE"
      },
      "id": "zfukafhRQ8OE",
      "execution_count": null,
      "outputs": []
    },
    {
      "cell_type": "code",
      "source": [
        "def bfs(initialstate):\n",
        "  queue=Queue()\n",
        "  queue.enqueue((initialstate,[]))\n",
        "  while not queue.isempty():\n",
        "    currentstate,path = queue.dequeue()\n",
        "    print(\"Move\",path)\n",
        "    if isgoal(currentstate):\n",
        "      print(\"Reached Goal State\")\n",
        "      print(\"Total Moves\",len(path))\n",
        "      return path\n",
        "    for dir in ['up', 'down', 'left', 'right']:\n",
        "      newstate = movblank(currentstate,dir)\n",
        "      if newstate not in [state for state,_ in queue.items]:\n",
        "        queue.enqueue((newstate, path + [dir]))\n",
        "  print(\"Goal State not Reached\")\n",
        "  return None\n"
      ],
      "metadata": {
        "id": "pcihWQOQRPyX"
      },
      "id": "pcihWQOQRPyX",
      "execution_count": null,
      "outputs": []
    },
    {
      "cell_type": "code",
      "source": [
        "initialstate= [\n",
        "    [1,2,3],\n",
        "    [4,0,6],\n",
        "    [7,5,8]\n",
        "]\n",
        "goalstate=[\n",
        "    [1,2,3],\n",
        "    [4,5,6],\n",
        "    [7,8,0]\n",
        "]"
      ],
      "metadata": {
        "id": "eNdXyenvTnqs"
      },
      "id": "eNdXyenvTnqs",
      "execution_count": null,
      "outputs": []
    },
    {
      "cell_type": "code",
      "source": [
        "bfs(initialstate)"
      ],
      "metadata": {
        "id": "Lyu4bxKFULzW",
        "outputId": "dbcd9be9-5922-491b-d76b-1316b375d6cc",
        "colab": {
          "base_uri": "https://localhost:8080/"
        }
      },
      "id": "Lyu4bxKFULzW",
      "execution_count": null,
      "outputs": [
        {
          "output_type": "stream",
          "name": "stdout",
          "text": [
            "Move: []\n",
            "[1, 2, 3]\n",
            "[4, 0, 6]\n",
            "[7, 5, 8]\n",
            "\n",
            "Move: ['up']\n",
            "[1, 0, 3]\n",
            "[4, 2, 6]\n",
            "[7, 5, 8]\n",
            "\n",
            "Move: ['down']\n",
            "[1, 2, 3]\n",
            "[4, 5, 6]\n",
            "[7, 0, 8]\n",
            "\n",
            "Move: ['left']\n",
            "[1, 2, 3]\n",
            "[0, 4, 6]\n",
            "[7, 5, 8]\n",
            "\n",
            "Move: ['right']\n",
            "[1, 2, 3]\n",
            "[4, 6, 0]\n",
            "[7, 5, 8]\n",
            "\n",
            "Move: ['up', 'up']\n",
            "[1, 0, 3]\n",
            "[4, 2, 6]\n",
            "[7, 5, 8]\n",
            "\n",
            "Move: ['up', 'down']\n",
            "[1, 2, 3]\n",
            "[4, 0, 6]\n",
            "[7, 5, 8]\n",
            "\n",
            "Move: ['up', 'left']\n",
            "[0, 1, 3]\n",
            "[4, 2, 6]\n",
            "[7, 5, 8]\n",
            "\n",
            "Move: ['up', 'right']\n",
            "[1, 3, 0]\n",
            "[4, 2, 6]\n",
            "[7, 5, 8]\n",
            "\n",
            "Move: ['down', 'down']\n",
            "[1, 2, 3]\n",
            "[4, 5, 6]\n",
            "[7, 0, 8]\n",
            "\n",
            "Move: ['down', 'left']\n",
            "[1, 2, 3]\n",
            "[4, 5, 6]\n",
            "[0, 7, 8]\n",
            "\n",
            "Move: ['down', 'right']\n",
            "[1, 2, 3]\n",
            "[4, 5, 6]\n",
            "[7, 8, 0]\n",
            "\n",
            "Reached the goal state!\n",
            "Total moves: 2\n"
          ]
        },
        {
          "output_type": "execute_result",
          "data": {
            "text/plain": [
              "['down', 'right']"
            ]
          },
          "metadata": {},
          "execution_count": 20
        }
      ]
    },
    {
      "cell_type": "markdown",
      "source": [
        "# Task 4: Assuming 4 friends have 4 cities (A,B,C,D) to go to, what is the possible state space\n",
        "of this problem? Display the possible state space in a ordered way. I'm interested in the\n",
        "random variable where atleast 3 persons go to the same city. Code the above problem in\n",
        "python and save the sample space in an array and find the probability of that event."
      ],
      "metadata": {
        "id": "In0uX9vOUXBO"
      },
      "id": "In0uX9vOUXBO"
    },
    {
      "cell_type": "code",
      "source": [
        "def makestatespace():\n",
        "  cities = ['A','B','C','D']\n",
        "  statespace=[]\n",
        "  for friend1 in cities:\n",
        "    for friend2 in cities:\n",
        "      for friend3 in cities:\n",
        "        for friend4 in cities:\n",
        "          statespace.append((friend1, friend2, friend3, friend4))\n",
        "  return statespace\n"
      ],
      "metadata": {
        "id": "K8w9QfZkXtD-"
      },
      "id": "K8w9QfZkXtD-",
      "execution_count": null,
      "outputs": []
    },
    {
      "cell_type": "code",
      "source": [
        "def calcprob(statespace):\n",
        "  counts=0\n",
        "  for state in statespace:\n",
        "    citycount={}\n",
        "    for city in state:\n",
        "      citycount[city]=citycount.get(city,0)+1\n",
        "    maxcount = max(citycount.values())\n",
        "    if maxcount >=3:\n",
        "      counts+=1\n",
        "  return counts / len(statespace)\n"
      ],
      "metadata": {
        "id": "NnKVOLOEYk0A"
      },
      "id": "NnKVOLOEYk0A",
      "execution_count": null,
      "outputs": []
    },
    {
      "cell_type": "code",
      "source": [
        "statespace = makestatespace()\n",
        "probability = calcprob(statespace)\n",
        "print(\"Total Possibilities : \",len(statespace))\n",
        "for state in statespace:\n",
        "  print(\", \".join([f'Friend{i+1}:{city}' for i,city in enumerate(state)]))\n",
        "print(\"Probability Atleast 3 Friends going to the same city: \",probability)\n"
      ],
      "metadata": {
        "id": "O0vM9DpUaH5w",
        "outputId": "ad328bbc-e4e8-4621-e39d-b643c2278073",
        "colab": {
          "base_uri": "https://localhost:8080/"
        }
      },
      "id": "O0vM9DpUaH5w",
      "execution_count": null,
      "outputs": [
        {
          "output_type": "stream",
          "name": "stdout",
          "text": [
            "Total Possibilities :  256\n",
            "Friend1:A, Friend2:A, Friend3:A, Friend4:A\n",
            "Friend1:A, Friend2:A, Friend3:A, Friend4:B\n",
            "Friend1:A, Friend2:A, Friend3:A, Friend4:C\n",
            "Friend1:A, Friend2:A, Friend3:A, Friend4:D\n",
            "Friend1:A, Friend2:A, Friend3:B, Friend4:A\n",
            "Friend1:A, Friend2:A, Friend3:B, Friend4:B\n",
            "Friend1:A, Friend2:A, Friend3:B, Friend4:C\n",
            "Friend1:A, Friend2:A, Friend3:B, Friend4:D\n",
            "Friend1:A, Friend2:A, Friend3:C, Friend4:A\n",
            "Friend1:A, Friend2:A, Friend3:C, Friend4:B\n",
            "Friend1:A, Friend2:A, Friend3:C, Friend4:C\n",
            "Friend1:A, Friend2:A, Friend3:C, Friend4:D\n",
            "Friend1:A, Friend2:A, Friend3:D, Friend4:A\n",
            "Friend1:A, Friend2:A, Friend3:D, Friend4:B\n",
            "Friend1:A, Friend2:A, Friend3:D, Friend4:C\n",
            "Friend1:A, Friend2:A, Friend3:D, Friend4:D\n",
            "Friend1:A, Friend2:B, Friend3:A, Friend4:A\n",
            "Friend1:A, Friend2:B, Friend3:A, Friend4:B\n",
            "Friend1:A, Friend2:B, Friend3:A, Friend4:C\n",
            "Friend1:A, Friend2:B, Friend3:A, Friend4:D\n",
            "Friend1:A, Friend2:B, Friend3:B, Friend4:A\n",
            "Friend1:A, Friend2:B, Friend3:B, Friend4:B\n",
            "Friend1:A, Friend2:B, Friend3:B, Friend4:C\n",
            "Friend1:A, Friend2:B, Friend3:B, Friend4:D\n",
            "Friend1:A, Friend2:B, Friend3:C, Friend4:A\n",
            "Friend1:A, Friend2:B, Friend3:C, Friend4:B\n",
            "Friend1:A, Friend2:B, Friend3:C, Friend4:C\n",
            "Friend1:A, Friend2:B, Friend3:C, Friend4:D\n",
            "Friend1:A, Friend2:B, Friend3:D, Friend4:A\n",
            "Friend1:A, Friend2:B, Friend3:D, Friend4:B\n",
            "Friend1:A, Friend2:B, Friend3:D, Friend4:C\n",
            "Friend1:A, Friend2:B, Friend3:D, Friend4:D\n",
            "Friend1:A, Friend2:C, Friend3:A, Friend4:A\n",
            "Friend1:A, Friend2:C, Friend3:A, Friend4:B\n",
            "Friend1:A, Friend2:C, Friend3:A, Friend4:C\n",
            "Friend1:A, Friend2:C, Friend3:A, Friend4:D\n",
            "Friend1:A, Friend2:C, Friend3:B, Friend4:A\n",
            "Friend1:A, Friend2:C, Friend3:B, Friend4:B\n",
            "Friend1:A, Friend2:C, Friend3:B, Friend4:C\n",
            "Friend1:A, Friend2:C, Friend3:B, Friend4:D\n",
            "Friend1:A, Friend2:C, Friend3:C, Friend4:A\n",
            "Friend1:A, Friend2:C, Friend3:C, Friend4:B\n",
            "Friend1:A, Friend2:C, Friend3:C, Friend4:C\n",
            "Friend1:A, Friend2:C, Friend3:C, Friend4:D\n",
            "Friend1:A, Friend2:C, Friend3:D, Friend4:A\n",
            "Friend1:A, Friend2:C, Friend3:D, Friend4:B\n",
            "Friend1:A, Friend2:C, Friend3:D, Friend4:C\n",
            "Friend1:A, Friend2:C, Friend3:D, Friend4:D\n",
            "Friend1:A, Friend2:D, Friend3:A, Friend4:A\n",
            "Friend1:A, Friend2:D, Friend3:A, Friend4:B\n",
            "Friend1:A, Friend2:D, Friend3:A, Friend4:C\n",
            "Friend1:A, Friend2:D, Friend3:A, Friend4:D\n",
            "Friend1:A, Friend2:D, Friend3:B, Friend4:A\n",
            "Friend1:A, Friend2:D, Friend3:B, Friend4:B\n",
            "Friend1:A, Friend2:D, Friend3:B, Friend4:C\n",
            "Friend1:A, Friend2:D, Friend3:B, Friend4:D\n",
            "Friend1:A, Friend2:D, Friend3:C, Friend4:A\n",
            "Friend1:A, Friend2:D, Friend3:C, Friend4:B\n",
            "Friend1:A, Friend2:D, Friend3:C, Friend4:C\n",
            "Friend1:A, Friend2:D, Friend3:C, Friend4:D\n",
            "Friend1:A, Friend2:D, Friend3:D, Friend4:A\n",
            "Friend1:A, Friend2:D, Friend3:D, Friend4:B\n",
            "Friend1:A, Friend2:D, Friend3:D, Friend4:C\n",
            "Friend1:A, Friend2:D, Friend3:D, Friend4:D\n",
            "Friend1:B, Friend2:A, Friend3:A, Friend4:A\n",
            "Friend1:B, Friend2:A, Friend3:A, Friend4:B\n",
            "Friend1:B, Friend2:A, Friend3:A, Friend4:C\n",
            "Friend1:B, Friend2:A, Friend3:A, Friend4:D\n",
            "Friend1:B, Friend2:A, Friend3:B, Friend4:A\n",
            "Friend1:B, Friend2:A, Friend3:B, Friend4:B\n",
            "Friend1:B, Friend2:A, Friend3:B, Friend4:C\n",
            "Friend1:B, Friend2:A, Friend3:B, Friend4:D\n",
            "Friend1:B, Friend2:A, Friend3:C, Friend4:A\n",
            "Friend1:B, Friend2:A, Friend3:C, Friend4:B\n",
            "Friend1:B, Friend2:A, Friend3:C, Friend4:C\n",
            "Friend1:B, Friend2:A, Friend3:C, Friend4:D\n",
            "Friend1:B, Friend2:A, Friend3:D, Friend4:A\n",
            "Friend1:B, Friend2:A, Friend3:D, Friend4:B\n",
            "Friend1:B, Friend2:A, Friend3:D, Friend4:C\n",
            "Friend1:B, Friend2:A, Friend3:D, Friend4:D\n",
            "Friend1:B, Friend2:B, Friend3:A, Friend4:A\n",
            "Friend1:B, Friend2:B, Friend3:A, Friend4:B\n",
            "Friend1:B, Friend2:B, Friend3:A, Friend4:C\n",
            "Friend1:B, Friend2:B, Friend3:A, Friend4:D\n",
            "Friend1:B, Friend2:B, Friend3:B, Friend4:A\n",
            "Friend1:B, Friend2:B, Friend3:B, Friend4:B\n",
            "Friend1:B, Friend2:B, Friend3:B, Friend4:C\n",
            "Friend1:B, Friend2:B, Friend3:B, Friend4:D\n",
            "Friend1:B, Friend2:B, Friend3:C, Friend4:A\n",
            "Friend1:B, Friend2:B, Friend3:C, Friend4:B\n",
            "Friend1:B, Friend2:B, Friend3:C, Friend4:C\n",
            "Friend1:B, Friend2:B, Friend3:C, Friend4:D\n",
            "Friend1:B, Friend2:B, Friend3:D, Friend4:A\n",
            "Friend1:B, Friend2:B, Friend3:D, Friend4:B\n",
            "Friend1:B, Friend2:B, Friend3:D, Friend4:C\n",
            "Friend1:B, Friend2:B, Friend3:D, Friend4:D\n",
            "Friend1:B, Friend2:C, Friend3:A, Friend4:A\n",
            "Friend1:B, Friend2:C, Friend3:A, Friend4:B\n",
            "Friend1:B, Friend2:C, Friend3:A, Friend4:C\n",
            "Friend1:B, Friend2:C, Friend3:A, Friend4:D\n",
            "Friend1:B, Friend2:C, Friend3:B, Friend4:A\n",
            "Friend1:B, Friend2:C, Friend3:B, Friend4:B\n",
            "Friend1:B, Friend2:C, Friend3:B, Friend4:C\n",
            "Friend1:B, Friend2:C, Friend3:B, Friend4:D\n",
            "Friend1:B, Friend2:C, Friend3:C, Friend4:A\n",
            "Friend1:B, Friend2:C, Friend3:C, Friend4:B\n",
            "Friend1:B, Friend2:C, Friend3:C, Friend4:C\n",
            "Friend1:B, Friend2:C, Friend3:C, Friend4:D\n",
            "Friend1:B, Friend2:C, Friend3:D, Friend4:A\n",
            "Friend1:B, Friend2:C, Friend3:D, Friend4:B\n",
            "Friend1:B, Friend2:C, Friend3:D, Friend4:C\n",
            "Friend1:B, Friend2:C, Friend3:D, Friend4:D\n",
            "Friend1:B, Friend2:D, Friend3:A, Friend4:A\n",
            "Friend1:B, Friend2:D, Friend3:A, Friend4:B\n",
            "Friend1:B, Friend2:D, Friend3:A, Friend4:C\n",
            "Friend1:B, Friend2:D, Friend3:A, Friend4:D\n",
            "Friend1:B, Friend2:D, Friend3:B, Friend4:A\n",
            "Friend1:B, Friend2:D, Friend3:B, Friend4:B\n",
            "Friend1:B, Friend2:D, Friend3:B, Friend4:C\n",
            "Friend1:B, Friend2:D, Friend3:B, Friend4:D\n",
            "Friend1:B, Friend2:D, Friend3:C, Friend4:A\n",
            "Friend1:B, Friend2:D, Friend3:C, Friend4:B\n",
            "Friend1:B, Friend2:D, Friend3:C, Friend4:C\n",
            "Friend1:B, Friend2:D, Friend3:C, Friend4:D\n",
            "Friend1:B, Friend2:D, Friend3:D, Friend4:A\n",
            "Friend1:B, Friend2:D, Friend3:D, Friend4:B\n",
            "Friend1:B, Friend2:D, Friend3:D, Friend4:C\n",
            "Friend1:B, Friend2:D, Friend3:D, Friend4:D\n",
            "Friend1:C, Friend2:A, Friend3:A, Friend4:A\n",
            "Friend1:C, Friend2:A, Friend3:A, Friend4:B\n",
            "Friend1:C, Friend2:A, Friend3:A, Friend4:C\n",
            "Friend1:C, Friend2:A, Friend3:A, Friend4:D\n",
            "Friend1:C, Friend2:A, Friend3:B, Friend4:A\n",
            "Friend1:C, Friend2:A, Friend3:B, Friend4:B\n",
            "Friend1:C, Friend2:A, Friend3:B, Friend4:C\n",
            "Friend1:C, Friend2:A, Friend3:B, Friend4:D\n",
            "Friend1:C, Friend2:A, Friend3:C, Friend4:A\n",
            "Friend1:C, Friend2:A, Friend3:C, Friend4:B\n",
            "Friend1:C, Friend2:A, Friend3:C, Friend4:C\n",
            "Friend1:C, Friend2:A, Friend3:C, Friend4:D\n",
            "Friend1:C, Friend2:A, Friend3:D, Friend4:A\n",
            "Friend1:C, Friend2:A, Friend3:D, Friend4:B\n",
            "Friend1:C, Friend2:A, Friend3:D, Friend4:C\n",
            "Friend1:C, Friend2:A, Friend3:D, Friend4:D\n",
            "Friend1:C, Friend2:B, Friend3:A, Friend4:A\n",
            "Friend1:C, Friend2:B, Friend3:A, Friend4:B\n",
            "Friend1:C, Friend2:B, Friend3:A, Friend4:C\n",
            "Friend1:C, Friend2:B, Friend3:A, Friend4:D\n",
            "Friend1:C, Friend2:B, Friend3:B, Friend4:A\n",
            "Friend1:C, Friend2:B, Friend3:B, Friend4:B\n",
            "Friend1:C, Friend2:B, Friend3:B, Friend4:C\n",
            "Friend1:C, Friend2:B, Friend3:B, Friend4:D\n",
            "Friend1:C, Friend2:B, Friend3:C, Friend4:A\n",
            "Friend1:C, Friend2:B, Friend3:C, Friend4:B\n",
            "Friend1:C, Friend2:B, Friend3:C, Friend4:C\n",
            "Friend1:C, Friend2:B, Friend3:C, Friend4:D\n",
            "Friend1:C, Friend2:B, Friend3:D, Friend4:A\n",
            "Friend1:C, Friend2:B, Friend3:D, Friend4:B\n",
            "Friend1:C, Friend2:B, Friend3:D, Friend4:C\n",
            "Friend1:C, Friend2:B, Friend3:D, Friend4:D\n",
            "Friend1:C, Friend2:C, Friend3:A, Friend4:A\n",
            "Friend1:C, Friend2:C, Friend3:A, Friend4:B\n",
            "Friend1:C, Friend2:C, Friend3:A, Friend4:C\n",
            "Friend1:C, Friend2:C, Friend3:A, Friend4:D\n",
            "Friend1:C, Friend2:C, Friend3:B, Friend4:A\n",
            "Friend1:C, Friend2:C, Friend3:B, Friend4:B\n",
            "Friend1:C, Friend2:C, Friend3:B, Friend4:C\n",
            "Friend1:C, Friend2:C, Friend3:B, Friend4:D\n",
            "Friend1:C, Friend2:C, Friend3:C, Friend4:A\n",
            "Friend1:C, Friend2:C, Friend3:C, Friend4:B\n",
            "Friend1:C, Friend2:C, Friend3:C, Friend4:C\n",
            "Friend1:C, Friend2:C, Friend3:C, Friend4:D\n",
            "Friend1:C, Friend2:C, Friend3:D, Friend4:A\n",
            "Friend1:C, Friend2:C, Friend3:D, Friend4:B\n",
            "Friend1:C, Friend2:C, Friend3:D, Friend4:C\n",
            "Friend1:C, Friend2:C, Friend3:D, Friend4:D\n",
            "Friend1:C, Friend2:D, Friend3:A, Friend4:A\n",
            "Friend1:C, Friend2:D, Friend3:A, Friend4:B\n",
            "Friend1:C, Friend2:D, Friend3:A, Friend4:C\n",
            "Friend1:C, Friend2:D, Friend3:A, Friend4:D\n",
            "Friend1:C, Friend2:D, Friend3:B, Friend4:A\n",
            "Friend1:C, Friend2:D, Friend3:B, Friend4:B\n",
            "Friend1:C, Friend2:D, Friend3:B, Friend4:C\n",
            "Friend1:C, Friend2:D, Friend3:B, Friend4:D\n",
            "Friend1:C, Friend2:D, Friend3:C, Friend4:A\n",
            "Friend1:C, Friend2:D, Friend3:C, Friend4:B\n",
            "Friend1:C, Friend2:D, Friend3:C, Friend4:C\n",
            "Friend1:C, Friend2:D, Friend3:C, Friend4:D\n",
            "Friend1:C, Friend2:D, Friend3:D, Friend4:A\n",
            "Friend1:C, Friend2:D, Friend3:D, Friend4:B\n",
            "Friend1:C, Friend2:D, Friend3:D, Friend4:C\n",
            "Friend1:C, Friend2:D, Friend3:D, Friend4:D\n",
            "Friend1:D, Friend2:A, Friend3:A, Friend4:A\n",
            "Friend1:D, Friend2:A, Friend3:A, Friend4:B\n",
            "Friend1:D, Friend2:A, Friend3:A, Friend4:C\n",
            "Friend1:D, Friend2:A, Friend3:A, Friend4:D\n",
            "Friend1:D, Friend2:A, Friend3:B, Friend4:A\n",
            "Friend1:D, Friend2:A, Friend3:B, Friend4:B\n",
            "Friend1:D, Friend2:A, Friend3:B, Friend4:C\n",
            "Friend1:D, Friend2:A, Friend3:B, Friend4:D\n",
            "Friend1:D, Friend2:A, Friend3:C, Friend4:A\n",
            "Friend1:D, Friend2:A, Friend3:C, Friend4:B\n",
            "Friend1:D, Friend2:A, Friend3:C, Friend4:C\n",
            "Friend1:D, Friend2:A, Friend3:C, Friend4:D\n",
            "Friend1:D, Friend2:A, Friend3:D, Friend4:A\n",
            "Friend1:D, Friend2:A, Friend3:D, Friend4:B\n",
            "Friend1:D, Friend2:A, Friend3:D, Friend4:C\n",
            "Friend1:D, Friend2:A, Friend3:D, Friend4:D\n",
            "Friend1:D, Friend2:B, Friend3:A, Friend4:A\n",
            "Friend1:D, Friend2:B, Friend3:A, Friend4:B\n",
            "Friend1:D, Friend2:B, Friend3:A, Friend4:C\n",
            "Friend1:D, Friend2:B, Friend3:A, Friend4:D\n",
            "Friend1:D, Friend2:B, Friend3:B, Friend4:A\n",
            "Friend1:D, Friend2:B, Friend3:B, Friend4:B\n",
            "Friend1:D, Friend2:B, Friend3:B, Friend4:C\n",
            "Friend1:D, Friend2:B, Friend3:B, Friend4:D\n",
            "Friend1:D, Friend2:B, Friend3:C, Friend4:A\n",
            "Friend1:D, Friend2:B, Friend3:C, Friend4:B\n",
            "Friend1:D, Friend2:B, Friend3:C, Friend4:C\n",
            "Friend1:D, Friend2:B, Friend3:C, Friend4:D\n",
            "Friend1:D, Friend2:B, Friend3:D, Friend4:A\n",
            "Friend1:D, Friend2:B, Friend3:D, Friend4:B\n",
            "Friend1:D, Friend2:B, Friend3:D, Friend4:C\n",
            "Friend1:D, Friend2:B, Friend3:D, Friend4:D\n",
            "Friend1:D, Friend2:C, Friend3:A, Friend4:A\n",
            "Friend1:D, Friend2:C, Friend3:A, Friend4:B\n",
            "Friend1:D, Friend2:C, Friend3:A, Friend4:C\n",
            "Friend1:D, Friend2:C, Friend3:A, Friend4:D\n",
            "Friend1:D, Friend2:C, Friend3:B, Friend4:A\n",
            "Friend1:D, Friend2:C, Friend3:B, Friend4:B\n",
            "Friend1:D, Friend2:C, Friend3:B, Friend4:C\n",
            "Friend1:D, Friend2:C, Friend3:B, Friend4:D\n",
            "Friend1:D, Friend2:C, Friend3:C, Friend4:A\n",
            "Friend1:D, Friend2:C, Friend3:C, Friend4:B\n",
            "Friend1:D, Friend2:C, Friend3:C, Friend4:C\n",
            "Friend1:D, Friend2:C, Friend3:C, Friend4:D\n",
            "Friend1:D, Friend2:C, Friend3:D, Friend4:A\n",
            "Friend1:D, Friend2:C, Friend3:D, Friend4:B\n",
            "Friend1:D, Friend2:C, Friend3:D, Friend4:C\n",
            "Friend1:D, Friend2:C, Friend3:D, Friend4:D\n",
            "Friend1:D, Friend2:D, Friend3:A, Friend4:A\n",
            "Friend1:D, Friend2:D, Friend3:A, Friend4:B\n",
            "Friend1:D, Friend2:D, Friend3:A, Friend4:C\n",
            "Friend1:D, Friend2:D, Friend3:A, Friend4:D\n",
            "Friend1:D, Friend2:D, Friend3:B, Friend4:A\n",
            "Friend1:D, Friend2:D, Friend3:B, Friend4:B\n",
            "Friend1:D, Friend2:D, Friend3:B, Friend4:C\n",
            "Friend1:D, Friend2:D, Friend3:B, Friend4:D\n",
            "Friend1:D, Friend2:D, Friend3:C, Friend4:A\n",
            "Friend1:D, Friend2:D, Friend3:C, Friend4:B\n",
            "Friend1:D, Friend2:D, Friend3:C, Friend4:C\n",
            "Friend1:D, Friend2:D, Friend3:C, Friend4:D\n",
            "Friend1:D, Friend2:D, Friend3:D, Friend4:A\n",
            "Friend1:D, Friend2:D, Friend3:D, Friend4:B\n",
            "Friend1:D, Friend2:D, Friend3:D, Friend4:C\n",
            "Friend1:D, Friend2:D, Friend3:D, Friend4:D\n",
            "Probability Atleast 3 Friends going to the same city:  0.203125\n"
          ]
        }
      ]
    },
    {
      "cell_type": "code",
      "source": [],
      "metadata": {
        "id": "GOKzkFx0bCf2"
      },
      "id": "GOKzkFx0bCf2",
      "execution_count": null,
      "outputs": []
    }
  ],
  "metadata": {
    "kernelspec": {
      "display_name": "Python 3 (ipykernel)",
      "language": "python",
      "name": "python3"
    },
    "language_info": {
      "codemirror_mode": {
        "name": "ipython",
        "version": 3
      },
      "file_extension": ".py",
      "mimetype": "text/x-python",
      "name": "python",
      "nbconvert_exporter": "python",
      "pygments_lexer": "ipython3",
      "version": "3.9.13"
    },
    "colab": {
      "provenance": [],
      "toc_visible": true,
      "include_colab_link": true
    }
  },
  "nbformat": 4,
  "nbformat_minor": 5
}